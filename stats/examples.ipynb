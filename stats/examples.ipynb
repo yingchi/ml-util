{
 "cells": [
  {
   "cell_type": "code",
   "execution_count": 1,
   "id": "unable-assembly",
   "metadata": {},
   "outputs": [],
   "source": [
    "from compare_models import *"
   ]
  },
  {
   "cell_type": "markdown",
   "id": "psychological-discharge",
   "metadata": {},
   "source": [
    "### Test p-value for comparing 2 AUC scores with DeLong method"
   ]
  },
  {
   "cell_type": "code",
   "execution_count": 2,
   "id": "personalized-scope",
   "metadata": {},
   "outputs": [
    {
     "name": "stdout",
     "output_type": "stream",
     "text": [
      "p-value for the 2 AUCs  0.0560\n"
     ]
    }
   ],
   "source": [
    "random_array = np.random.rand(100)\n",
    "# simulated ground truth\n",
    "y_true = np.round(random_array)\n",
    "# simulated predictions for model I\n",
    "y_pred1 = random_array + np.random.normal(loc=0.0, scale=0.2, size=len(y_true))\n",
    "# simulated predictions for model II\n",
    "y_pred2 = random_array + np.random.normal(loc=0.0, scale=0.3, size=len(y_true))\n",
    "\n",
    "p_value = roc_test_delong(y_true, y_pred1, y_pred2)\n",
    "print(f\"p-value for the 2 AUCs {p_value: .4f}\")"
   ]
  },
  {
   "cell_type": "markdown",
   "id": "taken-apparatus",
   "metadata": {},
   "source": [
    "### Test p-value for comparing 2 AUC scores with bootstrap method"
   ]
  },
  {
   "cell_type": "code",
   "execution_count": 6,
   "id": "bigger-watershed",
   "metadata": {},
   "outputs": [
    {
     "name": "stdout",
     "output_type": "stream",
     "text": [
      "p-value for the 2 AUCs  0.0500\n"
     ]
    }
   ],
   "source": [
    "p_value = roc_test_bootstrap(y_true, y_pred1, y_pred2)[0]\n",
    "print(f\"p-value for the 2 AUCs {p_value: .4f}\")"
   ]
  },
  {
   "cell_type": "code",
   "execution_count": null,
   "id": "competent-scene",
   "metadata": {},
   "outputs": [],
   "source": []
  }
 ],
 "metadata": {
  "kernelspec": {
   "display_name": "da-base",
   "language": "python",
   "name": "da-base"
  },
  "language_info": {
   "codemirror_mode": {
    "name": "ipython",
    "version": 3
   },
   "file_extension": ".py",
   "mimetype": "text/x-python",
   "name": "python",
   "nbconvert_exporter": "python",
   "pygments_lexer": "ipython3",
   "version": "3.7.5"
  }
 },
 "nbformat": 4,
 "nbformat_minor": 5
}
